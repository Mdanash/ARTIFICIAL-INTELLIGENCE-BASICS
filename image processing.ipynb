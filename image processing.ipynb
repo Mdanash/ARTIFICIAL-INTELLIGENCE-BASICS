{
 "cells": [
  {
   "cell_type": "code",
   "execution_count": 1,
   "id": "01e4655b",
   "metadata": {},
   "outputs": [
    {
     "name": "stdout",
     "output_type": "stream",
     "text": [
      "Requirement already satisfied: opencv-python in c:\\users\\admin\\anaconda3\\envs\\anash_cse-ai\\lib\\site-packages (4.7.0.68)\n",
      "Requirement already satisfied: numpy>=1.17.0 in c:\\users\\admin\\anaconda3\\envs\\anash_cse-ai\\lib\\site-packages (from opencv-python) (1.24.1)\n",
      "Note: you may need to restart the kernel to use updated packages.\n"
     ]
    }
   ],
   "source": [
    "pip install opencv-python"
   ]
  },
  {
   "cell_type": "code",
   "execution_count": 10,
   "id": "39cd9b15",
   "metadata": {},
   "outputs": [],
   "source": [
    "import cv2"
   ]
  },
  {
   "cell_type": "markdown",
   "id": "910efb6a",
   "metadata": {},
   "source": [
    "# IMAGE READING"
   ]
  },
  {
   "cell_type": "code",
   "execution_count": 11,
   "id": "fd5ccc34",
   "metadata": {},
   "outputs": [],
   "source": [
    "img=cv2.imread(\"download.jpg\")"
   ]
  },
  {
   "cell_type": "code",
   "execution_count": 12,
   "id": "d4ff29ff",
   "metadata": {},
   "outputs": [
    {
     "data": {
      "text/plain": [
       "array([[[ 46,  31,   0],\n",
       "        [ 46,  31,   0],\n",
       "        [ 46,  31,   0],\n",
       "        ...,\n",
       "        [138,  93,  49],\n",
       "        [138,  93,  49],\n",
       "        [138,  93,  49]],\n",
       "\n",
       "       [[ 47,  32,   0],\n",
       "        [ 46,  31,   0],\n",
       "        [ 46,  31,   0],\n",
       "        ...,\n",
       "        [138,  93,  49],\n",
       "        [138,  93,  49],\n",
       "        [138,  93,  49]],\n",
       "\n",
       "       [[ 48,  33,   0],\n",
       "        [ 47,  32,   0],\n",
       "        [ 47,  32,   0],\n",
       "        ...,\n",
       "        [138,  93,  49],\n",
       "        [138,  93,  49],\n",
       "        [138,  93,  49]],\n",
       "\n",
       "       ...,\n",
       "\n",
       "       [[108,  81,  71],\n",
       "        [108,  81,  71],\n",
       "        [106,  81,  71],\n",
       "        ...,\n",
       "        [191, 154, 120],\n",
       "        [191, 154, 120],\n",
       "        [191, 154, 120]],\n",
       "\n",
       "       [[106,  80,  68],\n",
       "        [106,  80,  68],\n",
       "        [106,  80,  68],\n",
       "        ...,\n",
       "        [189, 152, 118],\n",
       "        [189, 152, 118],\n",
       "        [189, 152, 118]],\n",
       "\n",
       "       [[105,  79,  65],\n",
       "        [105,  79,  65],\n",
       "        [105,  79,  67],\n",
       "        ...,\n",
       "        [185, 148, 114],\n",
       "        [185, 148, 114],\n",
       "        [185, 148, 114]]], dtype=uint8)"
      ]
     },
     "execution_count": 12,
     "metadata": {},
     "output_type": "execute_result"
    }
   ],
   "source": [
    "img"
   ]
  },
  {
   "cell_type": "code",
   "execution_count": 5,
   "id": "98f391c4",
   "metadata": {},
   "outputs": [],
   "source": [
    "grey=cv2.imread(\"download.jpg\",0)"
   ]
  },
  {
   "cell_type": "code",
   "execution_count": 6,
   "id": "9c9c001f",
   "metadata": {},
   "outputs": [
    {
     "data": {
      "text/plain": [
       "array([[ 23,  23,  23, ...,  85,  85,  85],\n",
       "       [ 24,  23,  23, ...,  85,  85,  85],\n",
       "       [ 25,  24,  24, ...,  85,  85,  85],\n",
       "       ...,\n",
       "       [ 81,  81,  81, ..., 148, 148, 148],\n",
       "       [ 79,  79,  79, ..., 146, 146, 146],\n",
       "       [ 78,  78,  78, ..., 142, 142, 142]], dtype=uint8)"
      ]
     },
     "execution_count": 6,
     "metadata": {},
     "output_type": "execute_result"
    }
   ],
   "source": [
    "grey"
   ]
  },
  {
   "cell_type": "code",
   "execution_count": null,
   "id": "a77fb323",
   "metadata": {},
   "outputs": [],
   "source": [
    "cv2.imshow(\"colour image\",img)\n",
    "cv2.imshow(\"greyscale image\",grey)\n",
    "cv2.waitKey(0)\n",
    "cv2.destroyAllWindows()\n",
    "\n"
   ]
  },
  {
   "cell_type": "markdown",
   "id": "ee26411d",
   "metadata": {},
   "source": [
    "## IMAGE WRITING"
   ]
  },
  {
   "cell_type": "code",
   "execution_count": 8,
   "id": "7590b28e",
   "metadata": {},
   "outputs": [
    {
     "data": {
      "text/plain": [
       "True"
      ]
     },
     "execution_count": 8,
     "metadata": {},
     "output_type": "execute_result"
    }
   ],
   "source": [
    "cv2.imwrite('C:/Users/admin/minions.jpg',img)"
   ]
  },
  {
   "cell_type": "code",
   "execution_count": 13,
   "id": "0b95f0c9",
   "metadata": {},
   "outputs": [],
   "source": [
    "import numpy as nump"
   ]
  },
  {
   "cell_type": "markdown",
   "id": "f5dee60f",
   "metadata": {},
   "source": [
    "# IMAGE SHAPE"
   ]
  },
  {
   "cell_type": "code",
   "execution_count": 14,
   "id": "1c603a6e",
   "metadata": {},
   "outputs": [],
   "source": [
    "shape=img.shape"
   ]
  },
  {
   "cell_type": "code",
   "execution_count": 15,
   "id": "b80d2d18",
   "metadata": {},
   "outputs": [
    {
     "name": "stdout",
     "output_type": "stream",
     "text": [
      "(168, 300, 3)\n"
     ]
    }
   ],
   "source": [
    "print(shape)"
   ]
  },
  {
   "cell_type": "markdown",
   "id": "81627b84",
   "metadata": {},
   "source": [
    "# IMAGE SIZE"
   ]
  },
  {
   "cell_type": "code",
   "execution_count": 16,
   "id": "b75e2fe6",
   "metadata": {},
   "outputs": [],
   "source": [
    "size=img.size"
   ]
  },
  {
   "cell_type": "code",
   "execution_count": 17,
   "id": "7ece2db4",
   "metadata": {},
   "outputs": [
    {
     "name": "stdout",
     "output_type": "stream",
     "text": [
      "151200\n"
     ]
    }
   ],
   "source": [
    "print(size)"
   ]
  },
  {
   "cell_type": "markdown",
   "id": "9402a081",
   "metadata": {},
   "source": [
    "# VALUE OF PIXEL"
   ]
  },
  {
   "cell_type": "code",
   "execution_count": 18,
   "id": "e6781708",
   "metadata": {},
   "outputs": [],
   "source": [
    "pixel=img[123,299]"
   ]
  },
  {
   "cell_type": "code",
   "execution_count": 19,
   "id": "826dfbbe",
   "metadata": {},
   "outputs": [
    {
     "name": "stdout",
     "output_type": "stream",
     "text": [
      "[199 156  99]\n"
     ]
    }
   ],
   "source": [
    "print(pixel)"
   ]
  },
  {
   "cell_type": "markdown",
   "id": "80afe83e",
   "metadata": {},
   "source": [
    "# Region Of Interest"
   ]
  },
  {
   "cell_type": "code",
   "execution_count": null,
   "id": "162280e4",
   "metadata": {},
   "outputs": [],
   "source": []
  }
 ],
 "metadata": {
  "kernelspec": {
   "display_name": "Python 3 (ipykernel)",
   "language": "python",
   "name": "python3"
  },
  "language_info": {
   "codemirror_mode": {
    "name": "ipython",
    "version": 3
   },
   "file_extension": ".py",
   "mimetype": "text/x-python",
   "name": "python",
   "nbconvert_exporter": "python",
   "pygments_lexer": "ipython3",
   "version": "3.9.16"
  }
 },
 "nbformat": 4,
 "nbformat_minor": 5
}
